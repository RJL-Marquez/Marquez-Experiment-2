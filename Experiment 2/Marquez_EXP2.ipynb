{
 "cells": [
  {
   "cell_type": "markdown",
   "id": "9d0d3037-af89-4cf6-a97a-26e4672a9c91",
   "metadata": {},
   "source": [
    "# 1. Normalization Problem"
   ]
  },
  {
   "cell_type": "code",
   "execution_count": 1,
   "id": "7679cf46-66e3-4dc8-874e-0abc3b71e5fe",
   "metadata": {},
   "outputs": [],
   "source": [
    "#Normalization Problem"
   ]
  },
  {
   "cell_type": "code",
   "execution_count": 3,
   "id": "9f44f619-cc08-493c-a234-3ebab1dd9d07",
   "metadata": {},
   "outputs": [],
   "source": [
    "#importing numpy\n",
    "import numpy as np"
   ]
  },
  {
   "cell_type": "code",
   "execution_count": 4,
   "id": "89416d95-0dbe-4fc7-ac2c-7f64c3173c8f",
   "metadata": {},
   "outputs": [
    {
     "data": {
      "text/plain": [
       "array([[0.01480882, 0.62142521, 0.70952956, 0.56256514, 0.42261103],\n",
       "       [0.40066664, 0.96951246, 0.24967853, 0.89433822, 0.46219975],\n",
       "       [0.25611114, 0.82263064, 0.03929618, 0.52869062, 0.60611145],\n",
       "       [0.26860599, 0.90744439, 0.84467425, 0.79398915, 0.03453855],\n",
       "       [0.38114928, 0.48020624, 0.7928646 , 0.94518191, 0.75845552]])"
      ]
     },
     "execution_count": 4,
     "metadata": {},
     "output_type": "execute_result"
    }
   ],
   "source": [
    "#Creating a random 5 x 5 ndarray\n",
    "X = np.random.random((5,5))\n",
    "X"
   ]
  },
  {
   "cell_type": "code",
   "execution_count": 7,
   "id": "6fbf964b-b447-446c-af5c-f09a6d9d851b",
   "metadata": {},
   "outputs": [
    {
     "data": {
      "text/plain": [
       "0.5506914109692215"
      ]
     },
     "execution_count": 7,
     "metadata": {},
     "output_type": "execute_result"
    }
   ],
   "source": [
    "#Finding the Mean of the random elements\n",
    "m = np.mean(X)\n",
    "m"
   ]
  },
  {
   "cell_type": "code",
   "execution_count": 9,
   "id": "ab5afca9-77be-4d39-943d-c63e8661f2d7",
   "metadata": {},
   "outputs": [
    {
     "data": {
      "text/plain": [
       "0.28873768461918203"
      ]
     },
     "execution_count": 9,
     "metadata": {},
     "output_type": "execute_result"
    }
   ],
   "source": [
    "#Finding the Standard Dev. of the random elements\n",
    "s = np.std(X)\n",
    "s"
   ]
  },
  {
   "cell_type": "code",
   "execution_count": 11,
   "id": "923f001a-7cd4-42dd-94c4-5b4ed537e40a",
   "metadata": {},
   "outputs": [
    {
     "data": {
      "text/plain": [
       "array([[-1.85594959,  0.24497599,  0.5501123 ,  0.0411229 , -0.44358733],\n",
       "       [-0.51958848,  1.45052436, -1.04251331,  1.19016957, -0.30647768],\n",
       "       [-1.02023494,  0.94182106, -1.77114127, -0.07619646,  0.19193905],\n",
       "       [-0.97696089,  1.23556085,  1.01816582,  0.84262552, -1.78761863],\n",
       "       [-0.58718395, -0.2441149 ,  0.8387308 ,  1.36625912,  0.71956008]])"
      ]
     },
     "execution_count": 11,
     "metadata": {},
     "output_type": "execute_result"
    }
   ],
   "source": [
    "#Normalizing the random elements using the formula: Z=(X-m)/s\n",
    "Z = ((X-m)/s)\n",
    "Z"
   ]
  },
  {
   "cell_type": "code",
   "execution_count": 13,
   "id": "d6c108c5-3a37-4d13-b982-e18f8c05d2c7",
   "metadata": {},
   "outputs": [],
   "source": [
    "#Saving the result as X_normalized.npy\n",
    "np.save('X_normalized', Z)"
   ]
  },
  {
   "cell_type": "code",
   "execution_count": null,
   "id": "903169f2-4951-41af-ae37-7180256e2e9e",
   "metadata": {},
   "outputs": [],
   "source": [
    "#End of Code"
   ]
  },
  {
   "cell_type": "markdown",
   "id": "1e4364e3-c316-472b-8095-c85e838d8e52",
   "metadata": {},
   "source": [
    "# 2. Divisible By 3 Problem"
   ]
  },
  {
   "cell_type": "code",
   "execution_count": 15,
   "id": "667bca37-4ad8-4a10-acf3-1c21c780fbfb",
   "metadata": {},
   "outputs": [],
   "source": [
    "#Divisible By 3 Problem"
   ]
  },
  {
   "cell_type": "code",
   "execution_count": 17,
   "id": "76a51ef7-a417-4694-a3cd-6cf1bf998d8a",
   "metadata": {},
   "outputs": [],
   "source": [
    "#importing numpy\n",
    "import numpy as np"
   ]
  },
  {
   "cell_type": "code",
   "execution_count": 19,
   "id": "d6e7e0c2-82fc-4715-a6be-e786785cb52c",
   "metadata": {},
   "outputs": [
    {
     "data": {
      "text/plain": [
       "array([[    1,     4,     9,    16,    25,    36,    49,    64,    81,\n",
       "          100],\n",
       "       [  121,   144,   169,   196,   225,   256,   289,   324,   361,\n",
       "          400],\n",
       "       [  441,   484,   529,   576,   625,   676,   729,   784,   841,\n",
       "          900],\n",
       "       [  961,  1024,  1089,  1156,  1225,  1296,  1369,  1444,  1521,\n",
       "         1600],\n",
       "       [ 1681,  1764,  1849,  1936,  2025,  2116,  2209,  2304,  2401,\n",
       "         2500],\n",
       "       [ 2601,  2704,  2809,  2916,  3025,  3136,  3249,  3364,  3481,\n",
       "         3600],\n",
       "       [ 3721,  3844,  3969,  4096,  4225,  4356,  4489,  4624,  4761,\n",
       "         4900],\n",
       "       [ 5041,  5184,  5329,  5476,  5625,  5776,  5929,  6084,  6241,\n",
       "         6400],\n",
       "       [ 6561,  6724,  6889,  7056,  7225,  7396,  7569,  7744,  7921,\n",
       "         8100],\n",
       "       [ 8281,  8464,  8649,  8836,  9025,  9216,  9409,  9604,  9801,\n",
       "        10000]])"
      ]
     },
     "execution_count": 19,
     "metadata": {},
     "output_type": "execute_result"
    }
   ],
   "source": [
    "#Generating the ndarray\n",
    "A = np.arange(1,101).reshape(10,10)\n",
    "A = np.square(A)\n",
    "A"
   ]
  },
  {
   "cell_type": "code",
   "execution_count": 21,
   "id": "fe3a0a5a-1f84-4044-ac53-4d3da567a5d5",
   "metadata": {},
   "outputs": [
    {
     "data": {
      "text/plain": [
       "array([   9,   36,   81,  144,  225,  324,  441,  576,  729,  900, 1089,\n",
       "       1296, 1521, 1764, 2025, 2304, 2601, 2916, 3249, 3600, 3969, 4356,\n",
       "       4761, 5184, 5625, 6084, 6561, 7056, 7569, 8100, 8649, 9216, 9801])"
      ]
     },
     "execution_count": 21,
     "metadata": {},
     "output_type": "execute_result"
    }
   ],
   "source": [
    "#Filtering the elements divisible by 3\n",
    "B = A[A % 3 == 0]\n",
    "B"
   ]
  },
  {
   "cell_type": "code",
   "execution_count": 23,
   "id": "25310c45-69a6-4385-bc0d-59744c766a68",
   "metadata": {},
   "outputs": [],
   "source": [
    "#Saving the result as div_by_3.npy\n",
    "np.save('div_by_3', B)"
   ]
  },
  {
   "cell_type": "code",
   "execution_count": 25,
   "id": "253bafb1-752d-4d15-8f74-3b8e9d71284a",
   "metadata": {},
   "outputs": [],
   "source": [
    "#End of Code"
   ]
  }
 ],
 "metadata": {
  "kernelspec": {
   "display_name": "Python 3 (ipykernel)",
   "language": "python",
   "name": "python3"
  },
  "language_info": {
   "codemirror_mode": {
    "name": "ipython",
    "version": 3
   },
   "file_extension": ".py",
   "mimetype": "text/x-python",
   "name": "python",
   "nbconvert_exporter": "python",
   "pygments_lexer": "ipython3",
   "version": "3.12.4"
  }
 },
 "nbformat": 4,
 "nbformat_minor": 5
}
