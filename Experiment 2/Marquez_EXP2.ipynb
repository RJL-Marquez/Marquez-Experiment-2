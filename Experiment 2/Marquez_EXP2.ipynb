{
 "cells": [
  {
   "cell_type": "markdown",
   "id": "9d0d3037-af89-4cf6-a97a-26e4672a9c91",
   "metadata": {
    "jp-MarkdownHeadingCollapsed": true
   },
   "source": [
    "# 1. Normalization Problem"
   ]
  },
  {
   "cell_type": "markdown",
   "id": "581dbfcb-145f-4d04-ba70-c2fca652364f",
   "metadata": {},
   "source": [
    "In this problem, create a random 5 x 5 ndarray and store it to variable X. Normalize X. Save your normalized ndarray as X_normalized.npy"
   ]
  },
  {
   "cell_type": "markdown",
   "id": "d5471754-6b4a-4e05-aec0-40a5c08b030b",
   "metadata": {
    "jp-MarkdownHeadingCollapsed": true
   },
   "source": [
    "### Importing numpy"
   ]
  },
  {
   "cell_type": "code",
   "execution_count": 1,
   "id": "7679cf46-66e3-4dc8-874e-0abc3b71e5fe",
   "metadata": {},
   "outputs": [],
   "source": [
    "#Normalization Problem"
   ]
  },
  {
   "cell_type": "code",
   "execution_count": 28,
   "id": "9f44f619-cc08-493c-a234-3ebab1dd9d07",
   "metadata": {},
   "outputs": [],
   "source": [
    "#importing numpy\n",
    "import numpy as np"
   ]
  },
  {
   "cell_type": "markdown",
   "id": "7cc6f4db-8017-4eb9-881c-18d3d818649d",
   "metadata": {
    "jp-MarkdownHeadingCollapsed": true
   },
   "source": [
    "### Initializing the random 5x5 ndarray"
   ]
  },
  {
   "cell_type": "code",
   "execution_count": 30,
   "id": "89416d95-0dbe-4fc7-ac2c-7f64c3173c8f",
   "metadata": {},
   "outputs": [
    {
     "data": {
      "text/plain": [
       "array([[0.17873752, 0.43035425, 0.13024452, 0.85888795, 0.00148741],\n",
       "       [0.06755702, 0.19729975, 0.99230936, 0.00300311, 0.57867781],\n",
       "       [0.26396834, 0.31057133, 0.96402417, 0.2772233 , 0.22352471],\n",
       "       [0.48434997, 0.08997062, 0.48978752, 0.53962873, 0.4688475 ],\n",
       "       [0.5567464 , 0.5904923 , 0.61257261, 0.81645498, 0.35939217]])"
      ]
     },
     "execution_count": 30,
     "metadata": {},
     "output_type": "execute_result"
    }
   ],
   "source": [
    "#Creating a random 5 x 5 ndarray\n",
    "X = np.random.random((5,5))\n",
    "X"
   ]
  },
  {
   "cell_type": "markdown",
   "id": "714a2ac4-6574-4b8e-8088-3e133eae59d0",
   "metadata": {
    "jp-MarkdownHeadingCollapsed": true
   },
   "source": [
    "### Calculating for the Mean"
   ]
  },
  {
   "cell_type": "code",
   "execution_count": 32,
   "id": "6fbf964b-b447-446c-af5c-f09a6d9d851b",
   "metadata": {},
   "outputs": [
    {
     "data": {
      "text/plain": [
       "0.419444535014256"
      ]
     },
     "execution_count": 32,
     "metadata": {},
     "output_type": "execute_result"
    }
   ],
   "source": [
    "#Finding the Mean of the random elements\n",
    "m = np.mean(X)\n",
    "m"
   ]
  },
  {
   "cell_type": "markdown",
   "id": "af7de40e-f801-4919-8429-47da42bd0169",
   "metadata": {
    "jp-MarkdownHeadingCollapsed": true
   },
   "source": [
    "### Calculating for the Standard Deviation"
   ]
  },
  {
   "cell_type": "code",
   "execution_count": 34,
   "id": "ab5afca9-77be-4d39-943d-c63e8661f2d7",
   "metadata": {},
   "outputs": [
    {
     "data": {
      "text/plain": [
       "0.2815709337041791"
      ]
     },
     "execution_count": 34,
     "metadata": {},
     "output_type": "execute_result"
    }
   ],
   "source": [
    "#Finding the Standard Dev. of the random elements\n",
    "s = np.std(X)\n",
    "s"
   ]
  },
  {
   "cell_type": "markdown",
   "id": "28b55095-91e0-4701-8074-cd863915ae49",
   "metadata": {
    "jp-MarkdownHeadingCollapsed": true
   },
   "source": [
    "### Calculating for the Z"
   ]
  },
  {
   "cell_type": "code",
   "execution_count": 36,
   "id": "923f001a-7cd4-42dd-94c4-5b4ed537e40a",
   "metadata": {},
   "outputs": [
    {
     "data": {
      "text/plain": [
       "array([[-0.85487166,  0.03874589, -1.0270947 ,  1.56068457, -1.48437595],\n",
       "       [-1.24972953, -0.78894784,  2.03453111, -1.47899293,  0.56551745],\n",
       "       [-0.55217416, -0.38666352,  1.93407619, -0.50509913, -0.69580983],\n",
       "       [ 0.23051185, -1.17012759,  0.24982333,  0.42683452,  0.17545476],\n",
       "       [ 0.48762798,  0.60747665,  0.68589494,  1.40998375, -0.21327613]])"
      ]
     },
     "execution_count": 36,
     "metadata": {},
     "output_type": "execute_result"
    }
   ],
   "source": [
    "#Normalizing the random elements using the formula: Z=(X-m)/s\n",
    "Z = ((X-m)/s)\n",
    "Z"
   ]
  },
  {
   "cell_type": "markdown",
   "id": "eb74ccbf-582a-46aa-b409-1e282170204a",
   "metadata": {
    "jp-MarkdownHeadingCollapsed": true
   },
   "source": [
    "### Saving the result in a local .npy file"
   ]
  },
  {
   "cell_type": "code",
   "execution_count": 38,
   "id": "d6c108c5-3a37-4d13-b982-e18f8c05d2c7",
   "metadata": {},
   "outputs": [],
   "source": [
    "#Saving the result as X_normalized.npy\n",
    "np.save('X_normalized', Z)"
   ]
  },
  {
   "cell_type": "code",
   "execution_count": 40,
   "id": "903169f2-4951-41af-ae37-7180256e2e9e",
   "metadata": {},
   "outputs": [],
   "source": [
    "#End of Code"
   ]
  },
  {
   "cell_type": "markdown",
   "id": "1e4364e3-c316-472b-8095-c85e838d8e52",
   "metadata": {
    "jp-MarkdownHeadingCollapsed": true
   },
   "source": [
    "# 2. Divisible By 3 Problem"
   ]
  },
  {
   "cell_type": "markdown",
   "id": "719937e7-5fc5-4d3b-9a1b-6e496c72f8fd",
   "metadata": {},
   "source": [
    "Create a 10 x 10 ndarray, which includes squares of the first 100 positive integers. From this ndarray, determine all the elements that are divisible by 3. Save the result as div_by_3.npy"
   ]
  },
  {
   "cell_type": "markdown",
   "id": "cfb0178f-1d43-4759-9036-ee35baa27ca8",
   "metadata": {
    "jp-MarkdownHeadingCollapsed": true
   },
   "source": [
    "### Importing numpy"
   ]
  },
  {
   "cell_type": "code",
   "execution_count": 15,
   "id": "667bca37-4ad8-4a10-acf3-1c21c780fbfb",
   "metadata": {},
   "outputs": [],
   "source": [
    "#Divisible By 3 Problem"
   ]
  },
  {
   "cell_type": "code",
   "execution_count": 42,
   "id": "76a51ef7-a417-4694-a3cd-6cf1bf998d8a",
   "metadata": {},
   "outputs": [],
   "source": [
    "#importing numpy\n",
    "import numpy as np"
   ]
  },
  {
   "cell_type": "markdown",
   "id": "de22ab4f-367f-4098-aaf1-cdf6f839323a",
   "metadata": {
    "jp-MarkdownHeadingCollapsed": true
   },
   "source": [
    "### Generating the given ndarray"
   ]
  },
  {
   "cell_type": "code",
   "execution_count": 44,
   "id": "d6e7e0c2-82fc-4715-a6be-e786785cb52c",
   "metadata": {},
   "outputs": [
    {
     "data": {
      "text/plain": [
       "array([[    1,     4,     9,    16,    25,    36,    49,    64,    81,\n",
       "          100],\n",
       "       [  121,   144,   169,   196,   225,   256,   289,   324,   361,\n",
       "          400],\n",
       "       [  441,   484,   529,   576,   625,   676,   729,   784,   841,\n",
       "          900],\n",
       "       [  961,  1024,  1089,  1156,  1225,  1296,  1369,  1444,  1521,\n",
       "         1600],\n",
       "       [ 1681,  1764,  1849,  1936,  2025,  2116,  2209,  2304,  2401,\n",
       "         2500],\n",
       "       [ 2601,  2704,  2809,  2916,  3025,  3136,  3249,  3364,  3481,\n",
       "         3600],\n",
       "       [ 3721,  3844,  3969,  4096,  4225,  4356,  4489,  4624,  4761,\n",
       "         4900],\n",
       "       [ 5041,  5184,  5329,  5476,  5625,  5776,  5929,  6084,  6241,\n",
       "         6400],\n",
       "       [ 6561,  6724,  6889,  7056,  7225,  7396,  7569,  7744,  7921,\n",
       "         8100],\n",
       "       [ 8281,  8464,  8649,  8836,  9025,  9216,  9409,  9604,  9801,\n",
       "        10000]])"
      ]
     },
     "execution_count": 44,
     "metadata": {},
     "output_type": "execute_result"
    }
   ],
   "source": [
    "#Generating the ndarray\n",
    "A = np.arange(1,101).reshape(10,10)\n",
    "A = np.square(A)\n",
    "A"
   ]
  },
  {
   "cell_type": "markdown",
   "id": "5843ff1c-3e90-46d2-9c76-727bcea1a377",
   "metadata": {
    "jp-MarkdownHeadingCollapsed": true
   },
   "source": [
    "### Filtering all values divisible by 3"
   ]
  },
  {
   "cell_type": "code",
   "execution_count": 46,
   "id": "fe3a0a5a-1f84-4044-ac53-4d3da567a5d5",
   "metadata": {},
   "outputs": [
    {
     "data": {
      "text/plain": [
       "array([   9,   36,   81,  144,  225,  324,  441,  576,  729,  900, 1089,\n",
       "       1296, 1521, 1764, 2025, 2304, 2601, 2916, 3249, 3600, 3969, 4356,\n",
       "       4761, 5184, 5625, 6084, 6561, 7056, 7569, 8100, 8649, 9216, 9801])"
      ]
     },
     "execution_count": 46,
     "metadata": {},
     "output_type": "execute_result"
    }
   ],
   "source": [
    "#Filtering the elements divisible by 3\n",
    "B = A[A % 3 == 0]\n",
    "B"
   ]
  },
  {
   "cell_type": "markdown",
   "id": "7247bf55-ca87-4c9f-8886-f62b7d80607f",
   "metadata": {
    "jp-MarkdownHeadingCollapsed": true
   },
   "source": [
    "### Saving the result in a local .npy file"
   ]
  },
  {
   "cell_type": "code",
   "execution_count": 48,
   "id": "25310c45-69a6-4385-bc0d-59744c766a68",
   "metadata": {},
   "outputs": [],
   "source": [
    "#Saving the result as div_by_3.npy\n",
    "np.save('div_by_3', B)"
   ]
  },
  {
   "cell_type": "code",
   "execution_count": 25,
   "id": "253bafb1-752d-4d15-8f74-3b8e9d71284a",
   "metadata": {},
   "outputs": [],
   "source": [
    "#End of Code"
   ]
  }
 ],
 "metadata": {
  "kernelspec": {
   "display_name": "Python 3 (ipykernel)",
   "language": "python",
   "name": "python3"
  },
  "language_info": {
   "codemirror_mode": {
    "name": "ipython",
    "version": 3
   },
   "file_extension": ".py",
   "mimetype": "text/x-python",
   "name": "python",
   "nbconvert_exporter": "python",
   "pygments_lexer": "ipython3",
   "version": "3.12.4"
  }
 },
 "nbformat": 4,
 "nbformat_minor": 5
}
